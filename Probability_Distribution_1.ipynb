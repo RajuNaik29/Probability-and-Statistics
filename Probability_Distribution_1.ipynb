{
  "nbformat": 4,
  "nbformat_minor": 0,
  "metadata": {
    "colab": {
      "provenance": [],
      "authorship_tag": "ABX9TyNWXyUcg6CX15XFhHCrZrSn",
      "include_colab_link": true
    },
    "kernelspec": {
      "name": "python3",
      "display_name": "Python 3"
    },
    "language_info": {
      "name": "python"
    }
  },
  "cells": [
    {
      "cell_type": "markdown",
      "metadata": {
        "id": "view-in-github",
        "colab_type": "text"
      },
      "source": [
        "<a href=\"https://colab.research.google.com/github/RajuNaik29/Probability-and-Statistics/blob/main/Probability_Distribution_1.ipynb\" target=\"_parent\"><img src=\"https://colab.research.google.com/assets/colab-badge.svg\" alt=\"Open In Colab\"/></a>"
      ]
    },
    {
      "cell_type": "code",
      "execution_count": 1,
      "metadata": {
        "id": "XvoPJLGywD2w"
      },
      "outputs": [],
      "source": [
        "from scipy.stats import binom"
      ]
    },
    {
      "cell_type": "code",
      "source": [
        "binom.pmf(k = 3, p = 0.25, n = 10)"
      ],
      "metadata": {
        "colab": {
          "base_uri": "https://localhost:8080/"
        },
        "id": "2_IOa0PKwWZ0",
        "outputId": "434f697e-7a08-4860-d1f2-77cbcd5b3a79"
      },
      "execution_count": 4,
      "outputs": [
        {
          "output_type": "execute_result",
          "data": {
            "text/plain": [
              "0.2502822875976561"
            ]
          },
          "metadata": {},
          "execution_count": 4
        }
      ]
    },
    {
      "cell_type": "code",
      "source": [
        "x = [0,1,2,3,4,5,6,7,8,9,10]\n",
        "l = []\n",
        "for i in x:\n",
        "  l.append(binom.pmf(k = i, p = 0.25, n = 10))\n",
        "\n",
        "print(l)"
      ],
      "metadata": {
        "colab": {
          "base_uri": "https://localhost:8080/"
        },
        "id": "FEDtKDqswoS-",
        "outputId": "3b9d44c0-6703-4418-89a6-40cf7c8e004e"
      },
      "execution_count": 12,
      "outputs": [
        {
          "output_type": "stream",
          "name": "stdout",
          "text": [
            "[0.05631351470947266, 0.1877117156982421, 0.28156757354736334, 0.2502822875976561, 0.14599800109863273, 0.058399200439453146, 0.016222000122070295, 0.0030899047851562496, 0.00038623809814453125, 2.8610229492187456e-05, 9.5367431640625e-07]\n"
          ]
        }
      ]
    },
    {
      "cell_type": "code",
      "source": [
        "import matplotlib.pyplot as plt\n",
        "import seaborn as sns"
      ],
      "metadata": {
        "id": "poJ9Drkgw_mM"
      },
      "execution_count": 6,
      "outputs": []
    },
    {
      "cell_type": "code",
      "source": [
        "sns.barplot(x = x, y = l)"
      ],
      "metadata": {
        "colab": {
          "base_uri": "https://localhost:8080/",
          "height": 448
        },
        "id": "cjX3E0bmxXEL",
        "outputId": "1bdf0866-3ba8-4c13-c27b-34c1d80d936c"
      },
      "execution_count": 13,
      "outputs": [
        {
          "output_type": "execute_result",
          "data": {
            "text/plain": [
              "<Axes: >"
            ]
          },
          "metadata": {},
          "execution_count": 13
        },
        {
          "output_type": "display_data",
          "data": {
            "text/plain": [
              "<Figure size 640x480 with 1 Axes>"
            ],
            "image/png": "[encoded data removed]"
          },
          "metadata": {}
        }
      ]
    },
    {
      "cell_type": "code",
      "source": [
        "binom.cdf(k = 3, p = 0.25, n = 10)"
      ],
      "metadata": {
        "colab": {
          "base_uri": "https://localhost:8080/"
        },
        "id": "JTF8mOAXxkhU",
        "outputId": "ac6f6db6-7d1f-4c72-cbc2-98c095418126"
      },
      "execution_count": 14,
      "outputs": [
        {
          "output_type": "execute_result",
          "data": {
            "text/plain": [
              "0.7758750915527344"
            ]
          },
          "metadata": {},
          "execution_count": 14
        }
      ]
    },
    {
      "cell_type": "code",
      "source": [
        "x = [0,1,2,3,4,5,6,7,8,9,10]\n",
        "l = []\n",
        "for i in x:\n",
        "  l.append(binom.cdf(k = i, p = 0.25, n = 10))\n",
        "\n",
        "print(l)"
      ],
      "metadata": {
        "colab": {
          "base_uri": "https://localhost:8080/"
        },
        "id": "vfOM5ntaxtoq",
        "outputId": "773bc84b-5f66-494c-da5c-91c6d9a69686"
      },
      "execution_count": 17,
      "outputs": [
        {
          "output_type": "stream",
          "name": "stdout",
          "text": [
            "[0.056313514709472684, 0.24402523040771484, 0.5255928039550781, 0.7758750915527344, 0.9218730926513672, 0.9802722930908203, 0.9964942932128906, 0.9995841979980469, 0.9999704360961914, 0.9999990463256836, 1.0]\n"
          ]
        }
      ]
    },
    {
      "cell_type": "code",
      "source": [
        "sns.scatterplot(x = x, y = l)"
      ],
      "metadata": {
        "colab": {
          "base_uri": "https://localhost:8080/",
          "height": 448
        },
        "id": "W7ByUbHDx91a",
        "outputId": "b44384a3-f048-497c-a7b2-ab55b494ccde"
      },
      "execution_count": 25,
      "outputs": [
        {
          "output_type": "execute_result",
          "data": {
            "text/plain": [
              "<Axes: >"
            ]
          },
          "metadata": {},
          "execution_count": 25
        },
        {
          "output_type": "display_data",
          "data": {
            "text/plain": [
              "<Figure size 640x480 with 1 Axes>"
            ],
            "image/png": "[encoded data removed]"
          },
          "metadata": {}
        }
      ]
    },
    {
      "cell_type": "markdown",
      "source": [
        "# **Assignment questions**"
      ],
      "metadata": {
        "id": "tV5E_p80zI9a"
      }
    },
    {
      "cell_type": "markdown",
      "source": [
        "## Q1. Defective Bulbs\n",
        "\n",
        "In a factory, the probability of producing a defective bulb is 0.25. A sample of 40 bulbs is collected.\n",
        "\n",
        "What is the probability that exactly 10 bulbs are defective?"
      ],
      "metadata": {
        "id": "VrRieaAbzaN3"
      }
    },
    {
      "cell_type": "code",
      "source": [
        "binom.pmf(k = 10, p = 0.25, n = 40)"
      ],
      "metadata": {
        "colab": {
          "base_uri": "https://localhost:8080/"
        },
        "id": "Ba7C7cG1ysDT",
        "outputId": "21ed8ff0-b3bb-4187-e2bb-1c102fd15d1b"
      },
      "execution_count": 28,
      "outputs": [
        {
          "output_type": "execute_result",
          "data": {
            "text/plain": [
              "0.14436434635625667"
            ]
          },
          "metadata": {},
          "execution_count": 28
        }
      ]
    },
    {
      "cell_type": "markdown",
      "source": [
        "## Q2. Boarding a cab\n",
        "\n",
        "The probability of a person not boarding a cab despite having paid for the seat is 0.4. A rideshare app always sells 6 seats in their cabs which can only accommodate 4 people.\n",
        "\n",
        "What is the probability that everyone who shows up for the ride gets a seat?"
      ],
      "metadata": {
        "id": "7yma7VgUzgtc"
      }
    },
    {
      "cell_type": "code",
      "source": [
        "binom.cdf(k = 4, p = 0.6, n = 6)"
      ],
      "metadata": {
        "colab": {
          "base_uri": "https://localhost:8080/"
        },
        "id": "w-D8uZ6xzTB0",
        "outputId": "ef2e7dfc-ace2-440c-ace9-0a8f60a193f5"
      },
      "execution_count": 30,
      "outputs": [
        {
          "output_type": "execute_result",
          "data": {
            "text/plain": [
              "0.7667200000000001"
            ]
          },
          "metadata": {},
          "execution_count": 30
        }
      ]
    },
    {
      "cell_type": "markdown",
      "source": [
        "## Q3. Faulty brake light\n",
        "\n",
        "A large-scale survey by government automation authority found that 12% of the cars have faulty brake lights. Find the probability that in a random sample of 10 cars, less than 4 cars have faulty brake lights ?"
      ],
      "metadata": {
        "id": "n5Tbj_zu0FMW"
      }
    },
    {
      "cell_type": "code",
      "source": [
        "binom.cdf(k = 3, p = 0.12, n = 10)"
      ],
      "metadata": {
        "colab": {
          "base_uri": "https://localhost:8080/"
        },
        "id": "MTx9OSob0Eul",
        "outputId": "5246d9cd-4693-422c-8a03-85a80de2d299"
      },
      "execution_count": 34,
      "outputs": [
        {
          "output_type": "execute_result",
          "data": {
            "text/plain": [
              "0.9760611779412912"
            ]
          },
          "metadata": {},
          "execution_count": 34
        }
      ]
    },
    {
      "cell_type": "markdown",
      "source": [
        "## Q4. Test case probability\n",
        "\n",
        "You are testing a software module, and there's a 0.80 probability that a test case will pass.\n",
        "\n",
        "a) What is the probability that exactly 3 out of 5 test cases pass?\n",
        "\n",
        "b) What is the probability that more than 2 out of 5 test cases pass?\n",
        "\n",
        "(Round off the answers to 4 decimal points)"
      ],
      "metadata": {
        "id": "hyoYSzAN06YN"
      }
    },
    {
      "cell_type": "code",
      "source": [
        "# a\n",
        "\n",
        "print(binom.pmf(k = 3, p = 0.80, n = 5))\n",
        "\n",
        "#b\n",
        "\n",
        "prob_2_or_fewer_pass = binom.cdf(k = 2, p = 0.80, n = 5)\n",
        "prob_2_or_more_pass = 1 - prob_2_or_fewer_pass\n",
        "print(prob_2_or_more_pass)"
      ],
      "metadata": {
        "colab": {
          "base_uri": "https://localhost:8080/"
        },
        "id": "Fe_DuIIY05y8",
        "outputId": "a6db42ad-0a6c-4376-9841-0c5a46f7eb77"
      },
      "execution_count": 38,
      "outputs": [
        {
          "output_type": "stream",
          "name": "stdout",
          "text": [
            "0.20479999999999995\n",
            "0.94208\n"
          ]
        }
      ]
    },
    {
      "cell_type": "markdown",
      "source": [
        "A basketball player takes 5 independent free throws with a probability of 0.6 for getting a basket on each shot.\n",
        "\n",
        "Find the probability that he gets exactly 3 baskets."
      ],
      "metadata": {
        "id": "IGSf4FcJ2IT3"
      }
    },
    {
      "cell_type": "code",
      "source": [
        "binom.pmf(k = 3, p = 0.6, n = 5)"
      ],
      "metadata": {
        "colab": {
          "base_uri": "https://localhost:8080/"
        },
        "id": "q5_5pLTt2NvW",
        "outputId": "616e0db1-b5a0-4344-f53c-45f598297b2d"
      },
      "execution_count": 39,
      "outputs": [
        {
          "output_type": "execute_result",
          "data": {
            "text/plain": [
              "0.3455999999999997"
            ]
          },
          "metadata": {},
          "execution_count": 39
        }
      ]
    },
    {
      "cell_type": "markdown",
      "source": [
        "A fair coin is flipped 4 times. What is the probability of landing 3 or less than 3 heads?"
      ],
      "metadata": {
        "id": "XdtxtB4x2aCj"
      }
    },
    {
      "cell_type": "code",
      "source": [
        "binom.cdf(k = 3, p = 0.5, n = 4)"
      ],
      "metadata": {
        "colab": {
          "base_uri": "https://localhost:8080/"
        },
        "id": "G-3jd1bq2Z0f",
        "outputId": "f78b7dc6-c73b-4460-9642-b11067d916c1"
      },
      "execution_count": 41,
      "outputs": [
        {
          "output_type": "execute_result",
          "data": {
            "text/plain": [
              "0.9375"
            ]
          },
          "metadata": {},
          "execution_count": 41
        }
      ]
    },
    {
      "cell_type": "markdown",
      "source": [
        "The probability that a Glo-brite light bulb is still working after 1000 hours of use is 0.3. Six new Glo-brite bulbs are installed.\n",
        "Find the probability that exactly four of them are working after 1000 hours of use. (Assume that the bulbs behave independently.)"
      ],
      "metadata": {
        "id": "_paUOOa43cYY"
      }
    },
    {
      "cell_type": "code",
      "source": [
        "binom.pmf(k = 4, p = 0.3, n = 6)"
      ],
      "metadata": {
        "colab": {
          "base_uri": "https://localhost:8080/"
        },
        "id": "DUDtSiBu3fGx",
        "outputId": "65dda464-3a6c-4f9f-a4bd-36921645a521"
      },
      "execution_count": 42,
      "outputs": [
        {
          "output_type": "execute_result",
          "data": {
            "text/plain": [
              "0.059535"
            ]
          },
          "metadata": {},
          "execution_count": 42
        }
      ]
    }
  ]
}